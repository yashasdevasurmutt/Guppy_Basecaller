{
  "nbformat": 4,
  "nbformat_minor": 0,
  "metadata": {
    "colab": {
      "provenance": [],
      "authorship_tag": "ABX9TyMZqs/8PR3dYgAJM0ZHYlmn",
      "include_colab_link": true
    },
    "kernelspec": {
      "name": "python3",
      "display_name": "Python 3"
    },
    "language_info": {
      "name": "python"
    },
    "accelerator": "GPU",
    "gpuClass": "standard"
  },
  "cells": [
    {
      "cell_type": "markdown",
      "metadata": {
        "id": "view-in-github",
        "colab_type": "text"
      },
      "source": [
        "<a href=\"https://colab.research.google.com/github/yashasdevasurmutt/Guppy_Basecaller/blob/main/Guppy_Basecaller.ipynb\" target=\"_parent\"><img src=\"https://colab.research.google.com/assets/colab-badge.svg\" alt=\"Open In Colab\"/></a>"
      ]
    },
    {
      "cell_type": "code",
      "execution_count": null,
      "metadata": {
        "id": "h3tFYNrqbd8L"
      },
      "outputs": [],
      "source": [
        "# Displays the GPU provided by Colab#\n",
        "# Run the other code blocks only if GPU other than 'Tesla K80' is available \n",
        "!nvidia-smi"
      ]
    },
    {
      "cell_type": "code",
      "source": [
        "# Download the required guppy version for basecalling \n",
        "# NOTE: One needs an ONT community forum account to download Guppy, so make sure you have one and can access the downloads section\n",
        "# Choose the appropriate guppy version for your project\n",
        "%%shell\n",
        "GuppyBinary=https://cdn.oxfordnanoportal.com/software/analysis/ont-guppy_6.4.2_linux64.tar.gz\n",
        "wget $GuppyBinary"
      ],
      "metadata": {
        "id": "OR6tEAEhbkQC"
      },
      "execution_count": null,
      "outputs": []
    },
    {
      "cell_type": "code",
      "source": [
        "# Extract and install the tar file\n",
        "%%shell\n",
        "tar -xzvf ont-guppy_6.4.2_linux64.tar.gz"
      ],
      "metadata": {
        "id": "eFyQ8g_4bmfE"
      },
      "execution_count": null,
      "outputs": []
    },
    {
      "cell_type": "code",
      "source": [
        "# Mountig the Google drive containing the files to be Basecalled\n",
        "from google.colab import drive\n",
        "drive.mount('/content/gdrive', force_remount=True)"
      ],
      "metadata": {
        "id": "R5Ftci4mbtAU"
      },
      "execution_count": null,
      "outputs": []
    },
    {
      "cell_type": "code",
      "source": [
        "# Checking the presence of Fast5 files on your Google drive\n",
        "%%shell\n",
        "ls gdrive/MyDrive/"
      ],
      "metadata": {
        "id": "GbMW8-sAb_hc"
      },
      "execution_count": null,
      "outputs": []
    },
    {
      "cell_type": "code",
      "source": [
        "# Basecalling of the Fast5 files with appropriate path destinations and parameters\n",
        "# NOTE: The below code has been set to High Accuracy basecalling configuration and R10.3 flow cell type. Choose config file accordingly\n",
        "%%shell\n",
        "inputPath=\"gdrive/MyDrive/\"\n",
        "outputPath=\"gdrive/MyDrive/Base_called\"\n",
        "guppy_bc=./ont-guppy/bin/guppy_basecaller\n",
        "guppy_cfg_hac=./ont-guppy/data/dna_r10.3_450bps_hac.cfg\n",
        "\n",
        "$guppy_bc -i $inputPath -s $outputPath  \\\n",
        "--recursive \\\n",
        "--config $guppy_cfg_hac \\\n",
        "--gpu_runners_per_device 16 \\\n",
        "--cpu_threads_per_caller 2 \\\n",
        "--device cuda:0"
      ],
      "metadata": {
        "id": "7bR6uGv1cMmj"
      },
      "execution_count": null,
      "outputs": []
    }
  ]
}