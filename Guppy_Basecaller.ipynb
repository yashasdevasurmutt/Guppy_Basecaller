{
  "nbformat": 4,
  "nbformat_minor": 0,
  "metadata": {
    "colab": {
      "provenance": [],
      "authorship_tag": "ABX9TyNPRv3Ot5tk3w0g8/Dezyi7",
      "include_colab_link": true
    },
    "kernelspec": {
      "name": "python3",
      "display_name": "Python 3"
    },
    "language_info": {
      "name": "python"
    },
    "accelerator": "GPU",
    "gpuClass": "standard"
  },
  "cells": [
    {
      "cell_type": "markdown",
      "metadata": {
        "id": "view-in-github",
        "colab_type": "text"
      },
      "source": [
        "<a href=\"https://colab.research.google.com/github/yashasdevasurmutt/Guppy_Basecaller/blob/main/Guppy_Basecaller.ipynb\" target=\"_parent\"><img src=\"https://colab.research.google.com/assets/colab-badge.svg\" alt=\"Open In Colab\"/></a>"
      ]
    },
    {
      "cell_type": "code",
      "execution_count": null,
      "metadata": {
        "colab": {
          "base_uri": "https://localhost:8080/"
        },
        "id": "h3tFYNrqbd8L",
        "outputId": "64ffcd4f-e852-4228-c118-9e95fc28d8d7"
      },
      "source": [
        "!nvidia-smi"
      ]
    },
    {
      "cell_type": "code",
      "source": [
        "%%shell\n",
        "GuppyBinary=https://cdn.oxfordnanoportal.com/software/analysis/ont-guppy_6.4.2_linux64.tar.gz\n",
        "wget $GuppyBinary"
      ],
      "metadata": {
        "colab": {
          "base_uri": "https://localhost:8080/"
        },
        "id": "OR6tEAEhbkQC",
        "outputId": "dce4b200-e053-456e-b3c7-5f8584b9fb66"
      },
      "execution_count": null,
      "outputs": [
        {
          "output_type": "stream",
          "name": "stdout",
          "text": [
            "--2022-12-13 07:41:36--  https://cdn.oxfordnanoportal.com/software/analysis/ont-guppy_6.4.2_linux64.tar.gz\n",
            "Resolving cdn.oxfordnanoportal.com (cdn.oxfordnanoportal.com)... 108.138.94.96, 108.138.94.29, 108.138.94.31, ...\n",
            "Connecting to cdn.oxfordnanoportal.com (cdn.oxfordnanoportal.com)|108.138.94.96|:443... connected.\n",
            "HTTP request sent, awaiting response... 200 OK\n",
            "Length: 1669334522 (1.6G) [application/x-tar]\n",
            "Saving to: ‘ont-guppy_6.4.2_linux64.tar.gz’\n",
            "\n",
            "ont-guppy_6.4.2_lin 100%[===================>]   1.55G   189MB/s    in 7.2s    \n",
            "\n",
            "2022-12-13 07:41:43 (220 MB/s) - ‘ont-guppy_6.4.2_linux64.tar.gz’ saved [1669334522/1669334522]\n",
            "\n"
          ]
        },
        {
          "output_type": "execute_result",
          "data": {
            "text/plain": []
          },
          "metadata": {},
          "execution_count": 2
        }
      ]
    },
    {
      "cell_type": "code",
      "source": [
        "%%shell\n",
        "tar -xzvf ont-guppy_6.4.2_linux64.tar.gz"
      ],
      "metadata": {
        "colab": {
          "base_uri": "https://localhost:8080/"
        },
        "id": "eFyQ8g_4bmfE",
        "outputId": "08fc9e49-52f6-476b-ac57-9134937e8a1d"
      },
      "execution_count": null,
      "outputs": [
        {
          "output_type": "stream",
          "name": "stdout",
          "text": [
            "ont-guppy/bin/\n",
            "ont-guppy/bin/autoconfigure_guppy_server.py\n",
            "ont-guppy/bin/guppy_basecall_client\n",
            "ont-guppy/bin/guppy_basecall_server\n",
            "ont-guppy/bin/guppy_basecaller\n",
            "ont-guppy/bin/guppy_basecaller_duplex\n",
            "ont-guppy/bin/guppy_basecaller_supervisor\n",
            "ont-guppy/data/\n",
            "ont-guppy/data/YHR174W.fasta\n",
            "ont-guppy/data/adapter_scaling_dna_r10.3_min.jsn\n",
            "ont-guppy/data/adapter_scaling_dna_r10.3_prom.jsn\n",
            "ont-guppy/data/adapter_scaling_dna_r10.4_e8.1.jsn\n",
            "ont-guppy/data/adapter_scaling_dna_r9.4.1_e8.1.jsn\n",
            "ont-guppy/data/adapter_scaling_dna_r9.4.1_min.jsn\n",
            "ont-guppy/data/adapter_scaling_dna_r9.4.1_prom.jsn\n",
            "ont-guppy/data/certs-bundle.crt\n",
            "ont-guppy/data/dna_r10.3_450bps_fast.cfg\n",
            "ont-guppy/data/dna_r10.3_450bps_fast_mk1c.cfg\n",
            "ont-guppy/data/dna_r10.3_450bps_fast_prom.cfg\n",
            "ont-guppy/data/dna_r10.3_450bps_hac.cfg\n",
            "ont-guppy/data/dna_r10.3_450bps_hac_mk1c.cfg\n",
            "ont-guppy/data/dna_r10.3_450bps_hac_prom.cfg\n",
            "ont-guppy/data/dna_r10.3_450bps_sup.cfg\n",
            "ont-guppy/data/dna_r10.4.1_e8.2_260bps_fast.cfg\n",
            "ont-guppy/data/dna_r10.4.1_e8.2_260bps_fast_mk1c.cfg\n",
            "ont-guppy/data/dna_r10.4.1_e8.2_260bps_fast_prom.cfg\n",
            "ont-guppy/data/dna_r10.4.1_e8.2_260bps_hac.cfg\n",
            "ont-guppy/data/dna_r10.4.1_e8.2_260bps_hac_mk1c.cfg\n",
            "ont-guppy/data/dna_r10.4.1_e8.2_260bps_hac_prom.cfg\n",
            "ont-guppy/data/dna_r10.4.1_e8.2_260bps_modbases_5mc_cg_fast.cfg\n",
            "ont-guppy/data/dna_r10.4.1_e8.2_260bps_modbases_5mc_cg_fast.jsn\n",
            "ont-guppy/data/dna_r10.4.1_e8.2_260bps_modbases_5mc_cg_fast_mk1c.cfg\n",
            "ont-guppy/data/dna_r10.4.1_e8.2_260bps_modbases_5mc_cg_fast_prom.cfg\n",
            "ont-guppy/data/dna_r10.4.1_e8.2_260bps_modbases_5mc_cg_hac.cfg\n",
            "ont-guppy/data/dna_r10.4.1_e8.2_260bps_modbases_5mc_cg_hac.jsn\n",
            "ont-guppy/data/dna_r10.4.1_e8.2_260bps_modbases_5mc_cg_hac_prom.cfg\n",
            "ont-guppy/data/dna_r10.4.1_e8.2_260bps_modbases_5mc_cg_sup.cfg\n",
            "ont-guppy/data/dna_r10.4.1_e8.2_260bps_modbases_5mc_cg_sup.jsn\n",
            "ont-guppy/data/dna_r10.4.1_e8.2_260bps_modbases_5mc_cg_sup_prom.cfg\n",
            "ont-guppy/data/dna_r10.4.1_e8.2_260bps_sup.cfg\n",
            "ont-guppy/data/dna_r10.4.1_e8.2_400bps_fast.cfg\n",
            "ont-guppy/data/dna_r10.4.1_e8.2_400bps_fast_mk1c.cfg\n",
            "ont-guppy/data/dna_r10.4.1_e8.2_400bps_fast_prom.cfg\n",
            "ont-guppy/data/dna_r10.4.1_e8.2_400bps_hac.cfg\n",
            "ont-guppy/data/dna_r10.4.1_e8.2_400bps_hac_mk1c.cfg\n",
            "ont-guppy/data/dna_r10.4.1_e8.2_400bps_hac_prom.cfg\n",
            "ont-guppy/data/dna_r10.4.1_e8.2_400bps_modbases_5mc_cg_fast.cfg\n",
            "ont-guppy/data/dna_r10.4.1_e8.2_400bps_modbases_5mc_cg_fast.jsn\n",
            "ont-guppy/data/dna_r10.4.1_e8.2_400bps_modbases_5mc_cg_fast_mk1c.cfg\n",
            "ont-guppy/data/dna_r10.4.1_e8.2_400bps_modbases_5mc_cg_fast_prom.cfg\n",
            "ont-guppy/data/dna_r10.4.1_e8.2_400bps_modbases_5mc_cg_hac.cfg\n",
            "ont-guppy/data/dna_r10.4.1_e8.2_400bps_modbases_5mc_cg_hac.jsn\n",
            "ont-guppy/data/dna_r10.4.1_e8.2_400bps_modbases_5mc_cg_hac_mk1c.cfg\n",
            "ont-guppy/data/dna_r10.4.1_e8.2_400bps_modbases_5mc_cg_hac_prom.cfg\n",
            "ont-guppy/data/dna_r10.4.1_e8.2_400bps_modbases_5mc_cg_sup.cfg\n",
            "ont-guppy/data/dna_r10.4.1_e8.2_400bps_modbases_5mc_cg_sup.jsn\n",
            "ont-guppy/data/dna_r10.4.1_e8.2_400bps_modbases_5mc_cg_sup_prom.cfg\n",
            "ont-guppy/data/dna_r10.4.1_e8.2_400bps_sup.cfg\n",
            "ont-guppy/data/dna_r10.4_e8.1_fast.cfg\n",
            "ont-guppy/data/dna_r10.4_e8.1_fast_mk1c.cfg\n",
            "ont-guppy/data/dna_r10.4_e8.1_fast_prom.cfg\n",
            "ont-guppy/data/dna_r10.4_e8.1_hac.cfg\n",
            "ont-guppy/data/dna_r10.4_e8.1_hac_mk1c.cfg\n",
            "ont-guppy/data/dna_r10.4_e8.1_hac_prom.cfg\n",
            "ont-guppy/data/dna_r10.4_e8.1_modbases_5hmc_5mc_cg_fast.cfg\n",
            "ont-guppy/data/dna_r10.4_e8.1_modbases_5hmc_5mc_cg_fast.jsn\n",
            "ont-guppy/data/dna_r10.4_e8.1_modbases_5hmc_5mc_cg_fast_mk1c.cfg\n",
            "ont-guppy/data/dna_r10.4_e8.1_modbases_5hmc_5mc_cg_fast_prom.cfg\n",
            "ont-guppy/data/dna_r10.4_e8.1_modbases_5hmc_5mc_cg_hac.cfg\n",
            "ont-guppy/data/dna_r10.4_e8.1_modbases_5hmc_5mc_cg_hac.jsn\n",
            "ont-guppy/data/dna_r10.4_e8.1_modbases_5hmc_5mc_cg_hac_mk1c.cfg\n",
            "ont-guppy/data/dna_r10.4_e8.1_modbases_5hmc_5mc_cg_hac_prom.cfg\n",
            "ont-guppy/data/dna_r10.4_e8.1_modbases_5hmc_5mc_cg_sup.cfg\n",
            "ont-guppy/data/dna_r10.4_e8.1_modbases_5hmc_5mc_cg_sup.jsn\n",
            "ont-guppy/data/dna_r10.4_e8.1_modbases_5hmc_5mc_cg_sup_prom.cfg\n",
            "ont-guppy/data/dna_r10.4_e8.1_modbases_5mc_cg_fast.cfg\n",
            "ont-guppy/data/dna_r10.4_e8.1_modbases_5mc_cg_fast.jsn\n",
            "ont-guppy/data/dna_r10.4_e8.1_modbases_5mc_cg_fast_mk1c.cfg\n",
            "ont-guppy/data/dna_r10.4_e8.1_modbases_5mc_cg_fast_prom.cfg\n",
            "ont-guppy/data/dna_r10.4_e8.1_modbases_5mc_cg_hac.cfg\n",
            "ont-guppy/data/dna_r10.4_e8.1_modbases_5mc_cg_hac.jsn\n",
            "ont-guppy/data/dna_r10.4_e8.1_modbases_5mc_cg_hac_mk1c.cfg\n",
            "ont-guppy/data/dna_r10.4_e8.1_modbases_5mc_cg_hac_prom.cfg\n",
            "ont-guppy/data/dna_r10.4_e8.1_modbases_5mc_cg_sup.cfg\n",
            "ont-guppy/data/dna_r10.4_e8.1_modbases_5mc_cg_sup.jsn\n",
            "ont-guppy/data/dna_r10.4_e8.1_modbases_5mc_cg_sup_prom.cfg\n",
            "ont-guppy/data/dna_r10.4_e8.1_sketch.cfg\n",
            "ont-guppy/data/dna_r10.4_e8.1_sketch_mk1c.cfg\n",
            "ont-guppy/data/dna_r10.4_e8.1_sup.cfg\n",
            "ont-guppy/data/dna_r10_450bps_fast.cfg\n",
            "ont-guppy/data/dna_r10_450bps_fast_mk1c.cfg\n",
            "ont-guppy/data/dna_r10_450bps_hac.cfg\n",
            "ont-guppy/data/dna_r10_450bps_hac_mk1c.cfg\n",
            "ont-guppy/data/dna_r9.4.1_450bps_fast.cfg\n",
            "ont-guppy/data/dna_r9.4.1_450bps_fast_mk1c.cfg\n",
            "ont-guppy/data/dna_r9.4.1_450bps_fast_prom.cfg\n",
            "ont-guppy/data/dna_r9.4.1_450bps_hac.cfg\n",
            "ont-guppy/data/dna_r9.4.1_450bps_hac_mk1c.cfg\n",
            "ont-guppy/data/dna_r9.4.1_450bps_hac_prom.cfg\n",
            "ont-guppy/data/dna_r9.4.1_450bps_hac_prom_fw205.cfg\n",
            "ont-guppy/data/dna_r9.4.1_450bps_modbases_5hmc_5mc_cg_fast.cfg\n",
            "ont-guppy/data/dna_r9.4.1_450bps_modbases_5hmc_5mc_cg_fast_mk1c.cfg\n",
            "ont-guppy/data/dna_r9.4.1_450bps_modbases_5hmc_5mc_cg_fast_prom.cfg\n",
            "ont-guppy/data/dna_r9.4.1_450bps_modbases_5hmc_5mc_cg_hac.cfg\n",
            "ont-guppy/data/dna_r9.4.1_450bps_modbases_5hmc_5mc_cg_hac_mk1c.cfg\n",
            "ont-guppy/data/dna_r9.4.1_450bps_modbases_5hmc_5mc_cg_hac_prom.cfg\n",
            "ont-guppy/data/dna_r9.4.1_450bps_modbases_5hmc_5mc_cg_sup.cfg\n",
            "ont-guppy/data/dna_r9.4.1_450bps_modbases_5hmc_5mc_cg_sup_prom.cfg\n",
            "ont-guppy/data/dna_r9.4.1_450bps_modbases_5mc_cg_fast.cfg\n",
            "ont-guppy/data/dna_r9.4.1_450bps_modbases_5mc_cg_fast_mk1c.cfg\n",
            "ont-guppy/data/dna_r9.4.1_450bps_modbases_5mc_cg_fast_prom.cfg\n",
            "ont-guppy/data/dna_r9.4.1_450bps_modbases_5mc_cg_hac.cfg\n",
            "ont-guppy/data/dna_r9.4.1_450bps_modbases_5mc_cg_hac_mk1c.cfg\n",
            "ont-guppy/data/dna_r9.4.1_450bps_modbases_5mc_cg_hac_prom.cfg\n",
            "ont-guppy/data/dna_r9.4.1_450bps_modbases_5mc_cg_sup.cfg\n",
            "ont-guppy/data/dna_r9.4.1_450bps_modbases_5mc_cg_sup_prom.cfg\n",
            "ont-guppy/data/dna_r9.4.1_450bps_sketch.cfg\n",
            "ont-guppy/data/dna_r9.4.1_450bps_sketch_mk1c.cfg\n",
            "ont-guppy/data/dna_r9.4.1_450bps_sup.cfg\n",
            "ont-guppy/data/dna_r9.4.1_450bps_sup_plant.cfg\n",
            "ont-guppy/data/dna_r9.4.1_450bps_sup_prom.cfg\n",
            "ont-guppy/data/dna_r9.4.1_e8.1_fast.cfg\n",
            "ont-guppy/data/dna_r9.4.1_e8.1_fast_mk1c.cfg\n",
            "ont-guppy/data/dna_r9.4.1_e8.1_fast_prom.cfg\n",
            "ont-guppy/data/dna_r9.4.1_e8.1_hac.cfg\n",
            "ont-guppy/data/dna_r9.4.1_e8.1_hac_mk1c.cfg\n",
            "ont-guppy/data/dna_r9.4.1_e8.1_hac_prom.cfg\n",
            "ont-guppy/data/dna_r9.4.1_e8.1_modbases_5mc_cg_fast.cfg\n",
            "ont-guppy/data/dna_r9.4.1_e8.1_modbases_5mc_cg_fast.jsn\n",
            "ont-guppy/data/dna_r9.4.1_e8.1_modbases_5mc_cg_fast_mk1c.cfg\n",
            "ont-guppy/data/dna_r9.4.1_e8.1_modbases_5mc_cg_fast_prom.cfg\n",
            "ont-guppy/data/dna_r9.4.1_e8.1_modbases_5mc_cg_hac.cfg\n",
            "ont-guppy/data/dna_r9.4.1_e8.1_modbases_5mc_cg_hac.jsn\n",
            "ont-guppy/data/dna_r9.4.1_e8.1_modbases_5mc_cg_hac_mk1c.cfg\n",
            "ont-guppy/data/dna_r9.4.1_e8.1_modbases_5mc_cg_hac_prom.cfg\n",
            "ont-guppy/data/dna_r9.4.1_e8.1_modbases_5mc_cg_sup.cfg\n",
            "ont-guppy/data/dna_r9.4.1_e8.1_modbases_5mc_cg_sup.jsn\n",
            "ont-guppy/data/dna_r9.4.1_e8.1_modbases_5mc_cg_sup_prom.cfg\n",
            "ont-guppy/data/dna_r9.4.1_e8.1_sketch.cfg\n",
            "ont-guppy/data/dna_r9.4.1_e8.1_sketch_mk1c.cfg\n",
            "ont-guppy/data/dna_r9.4.1_e8.1_sup.cfg\n",
            "ont-guppy/data/dna_r9.4.1_e8_modbases_5hmc_5mc_cg_fast.jsn\n",
            "ont-guppy/data/dna_r9.4.1_e8_modbases_5hmc_5mc_cg_hac.jsn\n",
            "ont-guppy/data/dna_r9.4.1_e8_modbases_5hmc_5mc_cg_sup.jsn\n",
            "ont-guppy/data/dna_r9.4.1_e8_modbases_5mc_cg_fast.jsn\n",
            "ont-guppy/data/dna_r9.4.1_e8_modbases_5mc_cg_hac.jsn\n",
            "ont-guppy/data/dna_r9.4.1_e8_modbases_5mc_cg_sup.jsn\n",
            "ont-guppy/data/dna_r9.5_450bps.cfg\n",
            "ont-guppy/data/lambda_3.6kb.fasta\n",
            "ont-guppy/data/lampore_analysis-2.0.0-py3-none-any.whl\n",
            "ont-guppy/data/mismatch_matrix.txt\n",
            "ont-guppy/data/read_splitting/\n",
            "ont-guppy/data/read_splitting/barcoding_arrangements/\n",
            "ont-guppy/data/read_splitting/barcoding_arrangements/read_splitting_arrangement.toml\n",
            "ont-guppy/data/read_splitting/read_splitting.cfg\n",
            "ont-guppy/data/read_splitting/read_splitting_arrangement.cfg\n",
            "ont-guppy/data/rna_r9.4.1_70bps_fast.cfg\n",
            "ont-guppy/data/rna_r9.4.1_70bps_fast_mk1c.cfg\n",
            "ont-guppy/data/rna_r9.4.1_70bps_fast_prom.cfg\n",
            "ont-guppy/data/rna_r9.4.1_70bps_hac.cfg\n",
            "ont-guppy/data/rna_r9.4.1_70bps_hac_mk1c.cfg\n",
            "ont-guppy/data/rna_r9.4.1_70bps_hac_prom.cfg\n",
            "ont-guppy/data/template_r10.3_450bps_fast.jsn\n",
            "ont-guppy/data/template_r10.3_450bps_hac.jsn\n",
            "ont-guppy/data/template_r10.3_450bps_sup.jsn\n",
            "ont-guppy/data/template_r10.4.1_e8.2_260bps_fast.jsn\n",
            "ont-guppy/data/template_r10.4.1_e8.2_260bps_hac.jsn\n",
            "ont-guppy/data/template_r10.4.1_e8.2_260bps_sup.jsn\n",
            "ont-guppy/data/template_r10.4.1_e8.2_400bps_fast.jsn\n",
            "ont-guppy/data/template_r10.4.1_e8.2_400bps_hac.jsn\n",
            "ont-guppy/data/template_r10.4.1_e8.2_400bps_sup.jsn\n",
            "ont-guppy/data/template_r10.4_e8.1_fast.jsn\n",
            "ont-guppy/data/template_r10.4_e8.1_hac.jsn\n",
            "ont-guppy/data/template_r10.4_e8.1_sketch.jsn\n",
            "ont-guppy/data/template_r10.4_e8.1_sup.jsn\n",
            "ont-guppy/data/template_r10_450bps_fast.jsn\n",
            "ont-guppy/data/template_r10_450bps_hac.jsn\n",
            "ont-guppy/data/template_r9.4.1_450bps_fast.jsn\n",
            "ont-guppy/data/template_r9.4.1_450bps_fast_prom.jsn\n",
            "ont-guppy/data/template_r9.4.1_450bps_hac.jsn\n",
            "ont-guppy/data/template_r9.4.1_450bps_hac_prom.jsn\n",
            "ont-guppy/data/template_r9.4.1_450bps_hac_prom_fw205.jsn\n",
            "ont-guppy/data/template_r9.4.1_450bps_sketch.jsn\n",
            "ont-guppy/data/template_r9.4.1_450bps_sup.jsn\n",
            "ont-guppy/data/template_r9.4.1_450bps_sup_plant.jsn\n",
            "ont-guppy/data/template_r9.4.1_450bps_sup_prom.jsn\n",
            "ont-guppy/data/template_r9.4.1_e8.1_fast.jsn\n",
            "ont-guppy/data/template_r9.4.1_e8.1_hac.jsn\n",
            "ont-guppy/data/template_r9.4.1_e8.1_sketch.jsn\n",
            "ont-guppy/data/template_r9.4.1_e8.1_sup.jsn\n",
            "ont-guppy/data/template_r9.5_450bps_5mer_raw.jsn\n",
            "ont-guppy/data/template_rna_r9.4.1_70bps_fast.jsn\n",
            "ont-guppy/data/template_rna_r9.4.1_70bps_fast_prom.jsn\n",
            "ont-guppy/data/template_rna_r9.4.1_70bps_hac.jsn\n",
            "ont-guppy/data/template_rna_r9.4.1_70bps_hac_prom.jsn\n",
            "ont-guppy/bin/\n",
            "ont-guppy/bin/guppy_aligner\n",
            "ont-guppy/bin/\n",
            "ont-guppy/bin/Guppy End User License Agreement 17Feb22.pdf\n",
            "ont-guppy/bin/THIRD_PARTY_LICENSES\n",
            "ont-guppy/bin/\n",
            "ont-guppy/bin/guppy_barcoder\n",
            "ont-guppy/data/\n",
            "ont-guppy/data/barcoding/\n",
            "ont-guppy/data/barcoding/4x4_mismatch_matrix.txt\n",
            "ont-guppy/data/barcoding/5x5_mismatch_matrix.txt\n",
            "ont-guppy/data/barcoding/5x5_mismatch_matrix_simple.txt\n",
            "ont-guppy/data/barcoding/barcode_score_vs_classification.png\n",
            "ont-guppy/data/barcoding/barcodes_masked.fasta\n",
            "ont-guppy/data/barcoding/barcoding_arrangements/\n",
            "ont-guppy/data/barcoding/barcoding_arrangements/barcode_arrs_16s.toml\n",
            "ont-guppy/data/barcoding/barcoding_arrangements/barcode_arrs_lwb.toml\n",
            "ont-guppy/data/barcoding/barcoding_arrangements/barcode_arrs_lwb24.toml\n",
            "ont-guppy/data/barcoding/barcoding_arrangements/barcode_arrs_nb12.toml\n",
            "ont-guppy/data/barcoding/barcoding_arrangements/barcode_arrs_nb13-24.toml\n",
            "ont-guppy/data/barcoding/barcoding_arrangements/barcode_arrs_nb24.toml\n",
            "ont-guppy/data/barcoding/barcoding_arrangements/barcode_arrs_nb96.toml\n",
            "ont-guppy/data/barcoding/barcoding_arrangements/barcode_arrs_pcr12.toml\n",
            "ont-guppy/data/barcoding/barcoding_arrangements/barcode_arrs_pcr96.toml\n",
            "ont-guppy/data/barcoding/barcoding_arrangements/barcode_arrs_rab.toml\n",
            "ont-guppy/data/barcoding/barcoding_arrangements/barcode_arrs_rbk.toml\n",
            "ont-guppy/data/barcoding/barcoding_arrangements/barcode_arrs_rbk096.toml\n",
            "ont-guppy/data/barcoding/barcoding_arrangements/barcode_arrs_rbk096_kit14.toml\n",
            "ont-guppy/data/barcoding/barcoding_arrangements/barcode_arrs_rbk24.toml\n",
            "ont-guppy/data/barcoding/barcoding_arrangements/barcode_arrs_rbk24_kit14.toml\n",
            "ont-guppy/data/barcoding/barcoding_arrangements/barcode_arrs_rbk4.toml\n",
            "ont-guppy/data/barcoding/barcoding_arrangements/barcode_arrs_rlb.toml\n",
            "ont-guppy/data/barcoding/barcoding_arrangements/barcode_arrs_vmk.toml\n",
            "ont-guppy/data/barcoding/barcoding_arrangements/barcode_arrs_vmk4.toml\n",
            "ont-guppy/data/barcoding/barcoding_dual_arrangements/\n",
            "ont-guppy/data/barcoding/barcoding_dual_arrangements/barcode_arrs_dual_nb24_pcr96.toml\n",
            "ont-guppy/data/barcoding/configuration.cfg\n",
            "ont-guppy/data/barcoding/configuration_dual.cfg\n",
            "ont-guppy/data/barcoding/multivirus_targets.fasta\n",
            "ont-guppy/data/barcoding/ncov_targets.fasta\n",
            "ont-guppy/data/barcoding/nw_barcoding_grid.png\n",
            "ont-guppy/lib/\n",
            "ont-guppy/lib/libvbz_hdf_plugin.a\n",
            "ont-guppy/bin/\n",
            "ont-guppy/bin/bam_convert\n",
            "ont-guppy/bin/\n",
            "ont-guppy/bin/minimap2\n",
            "ont-guppy/bin/minimap2-2.24\n",
            "ont-guppy/bin/\n",
            "ont-guppy/bin/crashpad_handler\n"
          ]
        },
        {
          "output_type": "execute_result",
          "data": {
            "text/plain": []
          },
          "metadata": {},
          "execution_count": 3
        }
      ]
    },
    {
      "cell_type": "code",
      "source": [
        "from google.colab import drive\n",
        "drive.mount('/content/gdrive', force_remount=True)"
      ],
      "metadata": {
        "colab": {
          "base_uri": "https://localhost:8080/"
        },
        "id": "R5Ftci4mbtAU",
        "outputId": "bffe036e-0572-4f5c-825e-8e9471e15885"
      },
      "execution_count": null,
      "outputs": [
        {
          "output_type": "stream",
          "name": "stdout",
          "text": [
            "Mounted at /content/gdrive\n"
          ]
        }
      ]
    },
    {
      "cell_type": "code",
      "source": [
        "%%shell\n",
        "ls gdrive/MyDrive/"
      ],
      "metadata": {
        "colab": {
          "base_uri": "https://localhost:8080/"
        },
        "id": "GbMW8-sAb_hc",
        "outputId": "c112939d-9654-4b61-f0a0-b85dd6005ee1"
      },
      "execution_count": null,
      "outputs": [
        {
          "output_type": "stream",
          "name": "stdout",
          "text": [
            "'Colab Notebooks'   FAQ86465_c5bb4809_5.fast5\n"
          ]
        },
        {
          "output_type": "execute_result",
          "data": {
            "text/plain": []
          },
          "metadata": {},
          "execution_count": 5
        }
      ]
    },
    {
      "cell_type": "code",
      "source": [
        "%%shell\n",
        "inputPath=\"gdrive/MyDrive/\"\n",
        "outputPath=\"gdrive/MyDrive/Base_called\"\n",
        "guppy_bc=./ont-guppy/bin/guppy_basecaller\n",
        "guppy_cfg_hac=./ont-guppy/data/dna_r10.3_450bps_hac.cfg\n",
        "\n",
        "$guppy_bc -i $inputPath -s $outputPath  \\\n",
        "--recursive \\\n",
        "--config $guppy_cfg_hac \\\n",
        "--gpu_runners_per_device 16 \\\n",
        "--cpu_threads_per_caller 2 \\\n",
        "--device cuda:0"
      ],
      "metadata": {
        "colab": {
          "base_uri": "https://localhost:8080/"
        },
        "id": "7bR6uGv1cMmj",
        "outputId": "f87fce7b-6a18-4f51-f1c0-f11c50cf54e7"
      },
      "execution_count": null,
      "outputs": [
        {
          "output_type": "stream",
          "name": "stdout",
          "text": [
            "ONT Guppy basecalling software version 6.4.2+97a7f06, minimap2 version 2.24-r1122\n",
            "config file:        ./ont-guppy/data/dna_r10.3_450bps_hac.cfg\n",
            "model file:         /content/ont-guppy/data/template_r10.3_450bps_hac.jsn\n",
            "input path:         gdrive/MyDrive/\n",
            "save path:          gdrive/MyDrive/Base_called\n",
            "chunk size:         2000\n",
            "chunks per runner:  256\n",
            "minimum qscore:     9\n",
            "records per file:   4000\n",
            "num basecallers:    4\n",
            "gpu device:         cuda:0\n",
            "kernel path:        \n",
            "runners per device: 16\n",
            "\n",
            "Use of this software is permitted solely under the terms of the end user license agreement (EULA).\n",
            "By running, copying or accessing this software, you are demonstrating your acceptance of the EULA.\n",
            "The EULA may be found in /content/ont-guppy/bin\n",
            "Found 1 input read file to process.\n",
            "Init time: 1770 ms\n",
            "\n",
            "0%   10   20   30   40   50   60   70   80   90   100%\n",
            "|----|----|----|----|----|----|----|----|----|----|\n",
            "***************************************************\n",
            "Caller time: 27851 ms, Samples called: 116731778, samples/s: 4.1913e+06\n",
            "Finishing up any open output files.\n",
            "Basecalling completed successfully.\n"
          ]
        },
        {
          "output_type": "execute_result",
          "data": {
            "text/plain": []
          },
          "metadata": {},
          "execution_count": 20
        }
      ]
    }
  ]
}
